{
 "cells": [
  {
   "cell_type": "code",
   "execution_count": 1,
   "metadata": {
    "executionInfo": {
     "elapsed": 765,
     "status": "ok",
     "timestamp": 1606447778816,
     "user": {
      "displayName": "Michelle Wu",
      "photoUrl": "",
      "userId": "07444014838807254068"
     },
     "user_tz": 300
    },
    "id": "gKAZtz73KC22"
   },
   "outputs": [],
   "source": [
    "import numpy as np\n",
    "import matplotlib.pyplot as pyplot\n",
    "import scipy.optimize as optimize\n",
    "import scipy.integrate as integrate"
   ]
  },
  {
   "cell_type": "code",
   "execution_count": 2,
   "metadata": {
    "executionInfo": {
     "elapsed": 278,
     "status": "ok",
     "timestamp": 1606449720795,
     "user": {
      "displayName": "Michelle Wu",
      "photoUrl": "",
      "userId": "07444014838807254068"
     },
     "user_tz": 300
    },
    "id": "xodtvIzleAL3"
   },
   "outputs": [],
   "source": [
    "#SIER coefficients\n",
    "\n",
    "lamd = 1500\n",
    "mu = 0.014\n",
    "r1 = 1.5 #treatment for E: 1.0, 0.75, 0.5 ? \n",
    "r2 = 1.5 #treatment for I: 1.0, 0.75, 0.5 ?\n",
    "k = 0.26717\n",
    "d = 0.395\n",
    "c1 = 1.8/140495 #these were the beta values, not c1?; c_i = beta_i/Area\n",
    "                #from Buonomo et al. \" In order to avoid such circumstances [of disease becoming endemic]\n",
    "                #and successfully eradicate the disease, \n",
    "                #a population density lower than 19,030 individuals/km2 \n",
    "                #is thus suggested.\"\n",
    "                #google says urban area of sub saharan africa: 140,495 km2\n",
    "c2 = 2.0/140495 \n",
    "c3 = 0.23/140495"
   ]
  },
  {
   "cell_type": "code",
   "execution_count": 3,
   "metadata": {
    "executionInfo": {
     "elapsed": 309,
     "status": "ok",
     "timestamp": 1606449721612,
     "user": {
      "displayName": "Michelle Wu",
      "photoUrl": "",
      "userId": "07444014838807254068"
     },
     "user_tz": 300
    },
    "id": "-6-_Ur5ieDPN"
   },
   "outputs": [],
   "source": [
    "#SIER - diff equations \n",
    "\n",
    "def dS_dt(I,S,t):\n",
    "    return (lamd - c1*S*I - mu*S)\n",
    "\n",
    "def dI_dt(I,E,t):\n",
    "    return (k*E - (mu+r2+d)*I +c3*E*I)\n",
    "\n",
    "def dE_dt(I,E,S,T,t):\n",
    "    return (c1*S*I + c2*T*I - c3*E*I - (mu+r1+k)*E)\n",
    "\n",
    "def dT_dt(I,E,T,t):\n",
    "    return (r1*E + r2*I - c2*T*I - mu*T)\n",
    "\n",
    "def dN_dt(N,t):\n",
    "    S,I,E,T = N\n",
    "    return ([dS_dt(I,S,t),\n",
    "             dI_dt(I,E,t),\n",
    "             dE_dt(I,E,S,T,t),\n",
    "             dT_dt(I,E,T,t)])"
   ]
  },
  {
   "cell_type": "code",
   "execution_count": 4,
   "metadata": {
    "executionInfo": {
     "elapsed": 289,
     "status": "ok",
     "timestamp": 1606450165390,
     "user": {
      "displayName": "Michelle Wu",
      "photoUrl": "",
      "userId": "07444014838807254068"
     },
     "user_tz": 300
    },
    "id": "q9gMTXGjrTKh"
   },
   "outputs": [],
   "source": [
    "#SIER simulations; testing various r_1 & r_2's (w/ incr S?)\n",
    "\n",
    "S = 1.1e9 #population sub saharan africa (2010, world databank)\n",
    "I = 2.6e6 #recorded number of TB in 2014 (in proposal)\n",
    "E = I*0.2 #wordwide latent prevalency est. 20%\n",
    "T = 0\n",
    "\n",
    "ic = [S,I,E,T] \n",
    "t = range(0,50)\n",
    "Nfit = integrate.odeint(dN_dt,ic,t)"
   ]
  },
  {
   "cell_type": "code",
   "execution_count": 5,
   "metadata": {
    "colab": {
     "base_uri": "https://localhost:8080/",
     "height": 293
    },
    "executionInfo": {
     "elapsed": 456,
     "status": "ok",
     "timestamp": 1606450190289,
     "user": {
      "displayName": "Michelle Wu",
      "photoUrl": "",
      "userId": "07444014838807254068"
     },
     "user_tz": 300
    },
    "id": "uZy81_NXv-Y8",
    "outputId": "b524c69b-215e-4f58-ecb4-2d0c1d20c835"
   },
   "outputs": [
    {
     "data": {
      "text/plain": [
       "<matplotlib.legend.Legend at 0x7ffc7cdb91f0>"
      ]
     },
     "execution_count": 5,
     "metadata": {},
     "output_type": "execute_result"
    },
    {
     "data": {
      "image/png": "[encoded data removed]",
      "text/plain": [
       "<Figure size 432x288 with 1 Axes>"
      ]
     },
     "metadata": {
      "needs_background": "light"
     },
     "output_type": "display_data"
    }
   ],
   "source": [
    "pyplot.plot(t,Nfit[:,0])\n",
    "pyplot.plot(t,Nfit[:,1])\n",
    "pyplot.plot(t,Nfit[:,2])\n",
    "pyplot.plot(t,Nfit[:,3])\n",
    "pyplot.legend([\"Susceptible\",\"Infected\",\"Exposed\",\"Treated\"],loc = \"center right\",bbox_to_anchor=(1.35, 0.5))\n",
    "#still need to determine reasonable initial conditions..."
   ]
  },
  {
   "cell_type": "code",
   "execution_count": 7,
   "metadata": {
    "colab": {
     "base_uri": "https://localhost:8080/",
     "height": 718
    },
    "executionInfo": {
     "elapsed": 967,
     "status": "ok",
     "timestamp": 1606450059527,
     "user": {
      "displayName": "Michelle Wu",
      "photoUrl": "",
      "userId": "07444014838807254068"
     },
     "user_tz": 300
    },
    "id": "WmT29hR5YPmY",
    "outputId": "48dec72d-d020-4785-f0ab-4aa4af792730"
   },
   "outputs": [
    {
     "name": "stdout",
     "output_type": "stream",
     "text": [
      "      fun: 4972866393054.758\n",
      " hess_inv: array([[0.00714526, 0.        , 0.        ],\n",
      "       [0.        , 1.        , 0.        ],\n",
      "       [0.        , 0.        , 1.        ]])\n",
      "      jac: array([0., 0., 0.])\n",
      "  message: 'Optimization terminated successfully.'\n",
      "     nfev: 64\n",
      "      nit: 6\n",
      "     njev: 16\n",
      "   status: 0\n",
      "  success: True\n",
      "        x: array([4.95641152e+05, 1.00000000e+00, 2.00000000e+06]) \n",
      "\n",
      "      fun: 792367860.3848813\n",
      " hess_inv: array([[ 8.69771381e-02, -6.90762285e-09, -1.11449318e-01],\n",
      "       [-6.90762285e-09,  5.63106150e-16,  8.50742468e-09],\n",
      "       [-1.11449318e-01,  8.50742468e-09,  1.57789104e-01]])\n",
      "      jac: array([-9.60000000e+01,  1.31620141e+09, -8.80000000e+01])\n",
      "  message: 'Desired error not necessarily achieved due to precision loss.'\n",
      "     nfev: 616\n",
      "      nit: 93\n",
      "     njev: 151\n",
      "   status: 2\n",
      "  success: False\n",
      "        x: array([1.55866391e+05, 2.73131893e-02, 1.47337164e+04])\n"
     ]
    },
    {
     "data": {
      "text/plain": [
       "[<matplotlib.lines.Line2D at 0x7ffc7cf5d9a0>]"
      ]
     },
     "execution_count": 7,
     "metadata": {},
     "output_type": "execute_result"
    },
    {
     "data": {
      "image/png": "[encoded data removed]",
      "text/plain": [
       "<Figure size 432x288 with 1 Axes>"
      ]
     },
     "metadata": {
      "needs_background": "light"
     },
     "output_type": "display_data"
    }
   ],
   "source": [
    "# Population data:\n",
    "pop = np.array([179007, 182373, 185912, 189614, 193474, 197490, 201664, 206004, 210521, 215228, 220138, 225260, 230596, 236142, 241888, 247831, 253972, 260325, 266914, 273767, 280908, 288346, 296085, 304135, 312505, 321201, 330232, 339601, 349297, 359305, 369614, 380212, 391107, 402322, 413893, 425841, 438184, 450902, 463932, 477186, 490605, 504171, 517913, 531880, 546143, 560759, 575760, 591148, 606928, 623097, 639661, 656627, 674033, 691958, 710500, 729733, 749688, 770357, 791717, 813730, 836364, 859611, 883473, 907934, 932975, 958577, 984734, 1011429, 1038627, 1066283, 1094366])\n",
    "\n",
    "# Plot given data\n",
    "t = np.linspace(0,len(pop),len(pop))\n",
    "pyplot.scatter(t,pop)\n",
    "\n",
    "# Logarithmic populaiton function\n",
    "def logy(t,K,alpha,beta):\n",
    "    return(K/(1 + np.exp(-alpha*t - beta)))\n",
    "\n",
    "# Objective function\n",
    "def h(theta):\n",
    "    sse = 0.0\n",
    "    for i in range(0,len(pop)):\n",
    "        sse += (pop[i] - logy(t[i],theta[0],theta[1],theta[2]))**2\n",
    "    return(sse)\n",
    "\n",
    "# Optimize Parameters\n",
    "result = optimize.minimize(h,[1e7,1,2e6])\n",
    "print(result,\"\\n\")\n",
    "\n",
    "# Plot Optimized function\n",
    "t_future = np.linspace(0,len(pop),len(pop))\n",
    "pyplot.plot(t_future,logy(t_future,result.x[0],result.x[1],result.x[2]))\n",
    "  # For some reason, the code is only optimizing the K value\n",
    "  # This results in a bad optimization and therefore poor fit of model to data\n",
    "\n",
    "# Repeat for Exponential model:\n",
    "def expo(t,a,b,c):\n",
    "    return(a*np.exp(t*b)+c)\n",
    "\n",
    "def h2(eta):\n",
    "    obj = 0.0\n",
    "    for i in range(0,len(pop)):\n",
    "        obj += (pop[i] - expo(t[i],eta[0],eta[1],eta[2]))**2\n",
    "    return(obj)\n",
    "\n",
    "result2 = optimize.minimize(h2,[0.1,0.2,0.1])\n",
    "print(result2)\n",
    "pyplot.plot(t_future,expo(t_future,result2.x[0],result2.x[1],result2.x[2]))"
   ]
  },
  {
   "cell_type": "code",
   "execution_count": null,
   "metadata": {
    "id": "NxwtpXao4pRr"
   },
   "outputs": [],
   "source": []
  }
 ],
 "metadata": {
  "colab": {
   "collapsed_sections": [],
   "name": "3mb3_Project.ipynb",
   "provenance": []
  },
  "kernelspec": {
   "display_name": "Python 3",
   "language": "python",
   "name": "python3"
  },
  "language_info": {
   "codemirror_mode": {
    "name": "ipython",
    "version": 3
   },
   "file_extension": ".py",
   "mimetype": "text/x-python",
   "name": "python",
   "nbconvert_exporter": "python",
   "pygments_lexer": "ipython3",
   "version": "3.8.3"
  }
 },
 "nbformat": 4,
 "nbformat_minor": 1
}
